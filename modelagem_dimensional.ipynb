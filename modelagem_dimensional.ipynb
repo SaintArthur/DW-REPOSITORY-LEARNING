{
 "cells": [
  {
   "cell_type": "code",
   "execution_count": 1,
   "metadata": {
    "collapsed": true
   },
   "outputs": [],
   "source": [
    "# packages\n",
    "import pymysql.cursors\n",
    "import pandas as pd\n",
    "import os"
   ]
  },
  {
   "cell_type": "code",
   "execution_count": 2,
   "metadata": {
    "collapsed": false
   },
   "outputs": [
    {
     "data": {
      "text/plain": [
       "['.git',\n",
       " '.gitignore',\n",
       " '.ipynb_checkpoints',\n",
       " 'Data',\n",
       " 'Data Warehouse',\n",
       " 'etl.py',\n",
       " 'modelagem_dimensional.ipynb']"
      ]
     },
     "execution_count": 2,
     "metadata": {},
     "output_type": "execute_result"
    }
   ],
   "source": [
    "os.listdir()"
   ]
  },
  {
   "cell_type": "code",
   "execution_count": 25,
   "metadata": {
    "collapsed": true
   },
   "outputs": [],
   "source": [
    "# reading just 100000 rows the dataframe \n",
    "df = pd.read_csv('Data/201701_BolsaFamiliaFolhaPagamento.csv', encoding = \"ISO-8859-1\", error_bad_lines=False, sep='\\t', nrows=100000)"
   ]
  },
  {
   "cell_type": "code",
   "execution_count": 3,
   "metadata": {
    "collapsed": false
   },
   "outputs": [
    {
     "data": {
      "text/plain": [
       "(100000, 12)"
      ]
     },
     "execution_count": 3,
     "metadata": {},
     "output_type": "execute_result"
    }
   ],
   "source": [
    "df.shape"
   ]
  },
  {
   "cell_type": "code",
   "execution_count": 26,
   "metadata": {
    "collapsed": false
   },
   "outputs": [
    {
     "name": "stdout",
     "output_type": "stream",
     "text": [
      "<class 'pandas.core.frame.DataFrame'>\n",
      "RangeIndex: 100000 entries, 0 to 99999\n",
      "Data columns (total 12 columns):\n",
      "UF                        100000 non-null object\n",
      "Código SIAFI Município    100000 non-null int64\n",
      "Nome Município            100000 non-null object\n",
      "Código Função             100000 non-null int64\n",
      "Código Subfunção          100000 non-null int64\n",
      "Código Programa           100000 non-null int64\n",
      "Código Ação               100000 non-null int64\n",
      "NIS Favorecido            100000 non-null int64\n",
      "Nome Favorecido           100000 non-null object\n",
      "Fonte-Finalidade          100000 non-null object\n",
      "Valor Parcela             100000 non-null object\n",
      "Mês Competência           100000 non-null object\n",
      "dtypes: int64(6), object(6)\n",
      "memory usage: 9.2+ MB\n"
     ]
    }
   ],
   "source": [
    "df.info()"
   ]
  },
  {
   "cell_type": "code",
   "execution_count": 5,
   "metadata": {
    "collapsed": false
   },
   "outputs": [
    {
     "data": {
      "text/html": [
       "<div>\n",
       "<table border=\"1\" class=\"dataframe\">\n",
       "  <thead>\n",
       "    <tr style=\"text-align: right;\">\n",
       "      <th></th>\n",
       "      <th>UF</th>\n",
       "      <th>Código SIAFI Município</th>\n",
       "      <th>Nome Município</th>\n",
       "      <th>Código Função</th>\n",
       "      <th>Código Subfunção</th>\n",
       "      <th>Código Programa</th>\n",
       "      <th>Código Ação</th>\n",
       "      <th>NIS Favorecido</th>\n",
       "      <th>Nome Favorecido</th>\n",
       "      <th>Fonte-Finalidade</th>\n",
       "      <th>Valor Parcela</th>\n",
       "      <th>Mês Competência</th>\n",
       "    </tr>\n",
       "  </thead>\n",
       "  <tbody>\n",
       "    <tr>\n",
       "      <th>0</th>\n",
       "      <td>BA</td>\n",
       "      <td>3389</td>\n",
       "      <td>BROTAS DE MACAUBAS</td>\n",
       "      <td>8</td>\n",
       "      <td>244</td>\n",
       "      <td>1335</td>\n",
       "      <td>8442</td>\n",
       "      <td>16074176737</td>\n",
       "      <td>FLAVIANO SEBASTIAO DOS SANTOS</td>\n",
       "      <td>CAIXA - Programa Bolsa Família</td>\n",
       "      <td>131.00</td>\n",
       "      <td>01/2017</td>\n",
       "    </tr>\n",
       "    <tr>\n",
       "      <th>1</th>\n",
       "      <td>PE</td>\n",
       "      <td>2531</td>\n",
       "      <td>RECIFE</td>\n",
       "      <td>8</td>\n",
       "      <td>244</td>\n",
       "      <td>1335</td>\n",
       "      <td>8442</td>\n",
       "      <td>20033347012</td>\n",
       "      <td>ELANE PATRICIA DA SILVA DAMASIO NUNES</td>\n",
       "      <td>CAIXA - Programa Bolsa Família</td>\n",
       "      <td>170.00</td>\n",
       "      <td>01/2017</td>\n",
       "    </tr>\n",
       "    <tr>\n",
       "      <th>2</th>\n",
       "      <td>SP</td>\n",
       "      <td>6291</td>\n",
       "      <td>CAMPINAS</td>\n",
       "      <td>8</td>\n",
       "      <td>244</td>\n",
       "      <td>1335</td>\n",
       "      <td>8442</td>\n",
       "      <td>13287063897</td>\n",
       "      <td>ANGELA APARECIDA SERAFIM</td>\n",
       "      <td>CAIXA - Programa Bolsa Família</td>\n",
       "      <td>202.00</td>\n",
       "      <td>01/2017</td>\n",
       "    </tr>\n",
       "  </tbody>\n",
       "</table>\n",
       "</div>"
      ],
      "text/plain": [
       "   UF  Código SIAFI Município      Nome Município  Código Função  \\\n",
       "0  BA                    3389  BROTAS DE MACAUBAS              8   \n",
       "1  PE                    2531              RECIFE              8   \n",
       "2  SP                    6291            CAMPINAS              8   \n",
       "\n",
       "   Código Subfunção  Código Programa  Código Ação  NIS Favorecido  \\\n",
       "0               244             1335         8442     16074176737   \n",
       "1               244             1335         8442     20033347012   \n",
       "2               244             1335         8442     13287063897   \n",
       "\n",
       "                         Nome Favorecido                Fonte-Finalidade  \\\n",
       "0          FLAVIANO SEBASTIAO DOS SANTOS  CAIXA - Programa Bolsa Família   \n",
       "1  ELANE PATRICIA DA SILVA DAMASIO NUNES  CAIXA - Programa Bolsa Família   \n",
       "2               ANGELA APARECIDA SERAFIM  CAIXA - Programa Bolsa Família   \n",
       "\n",
       "  Valor Parcela Mês Competência  \n",
       "0        131.00         01/2017  \n",
       "1        170.00         01/2017  \n",
       "2        202.00         01/2017  "
      ]
     },
     "execution_count": 5,
     "metadata": {},
     "output_type": "execute_result"
    }
   ],
   "source": [
    "df.head(3)"
   ]
  },
  {
   "cell_type": "code",
   "execution_count": 27,
   "metadata": {
    "collapsed": false
   },
   "outputs": [],
   "source": [
    "df['Valor Parcela'] = df['Valor Parcela'].apply(lambda num: float(num.replace(',', '')) if ',' in num else float(num))\n"
   ]
  },
  {
   "cell_type": "code",
   "execution_count": 31,
   "metadata": {
    "collapsed": false
   },
   "outputs": [
    {
     "data": {
      "text/html": [
       "<div>\n",
       "<table border=\"1\" class=\"dataframe\">\n",
       "  <thead>\n",
       "    <tr style=\"text-align: right;\">\n",
       "      <th></th>\n",
       "      <th>Código SIAFI Município</th>\n",
       "      <th>Código Função</th>\n",
       "      <th>Código Subfunção</th>\n",
       "      <th>Código Programa</th>\n",
       "      <th>Código Ação</th>\n",
       "      <th>NIS Favorecido</th>\n",
       "      <th>Valor Parcela</th>\n",
       "    </tr>\n",
       "  </thead>\n",
       "  <tbody>\n",
       "    <tr>\n",
       "      <th>count</th>\n",
       "      <td>5772.000000</td>\n",
       "      <td>5772.0</td>\n",
       "      <td>5772.0</td>\n",
       "      <td>5772.0</td>\n",
       "      <td>5772.0</td>\n",
       "      <td>5.772000e+03</td>\n",
       "      <td>5772.000000</td>\n",
       "    </tr>\n",
       "    <tr>\n",
       "      <th>mean</th>\n",
       "      <td>5462.788981</td>\n",
       "      <td>8.0</td>\n",
       "      <td>244.0</td>\n",
       "      <td>1335.0</td>\n",
       "      <td>8442.0</td>\n",
       "      <td>1.654944e+10</td>\n",
       "      <td>171.905405</td>\n",
       "    </tr>\n",
       "    <tr>\n",
       "      <th>std</th>\n",
       "      <td>1209.375625</td>\n",
       "      <td>0.0</td>\n",
       "      <td>0.0</td>\n",
       "      <td>0.0</td>\n",
       "      <td>0.0</td>\n",
       "      <td>3.701750e+09</td>\n",
       "      <td>98.021983</td>\n",
       "    </tr>\n",
       "    <tr>\n",
       "      <th>min</th>\n",
       "      <td>770.000000</td>\n",
       "      <td>8.0</td>\n",
       "      <td>244.0</td>\n",
       "      <td>1335.0</td>\n",
       "      <td>8442.0</td>\n",
       "      <td>1.006371e+10</td>\n",
       "      <td>39.000000</td>\n",
       "    </tr>\n",
       "    <tr>\n",
       "      <th>25%</th>\n",
       "      <td>5833.000000</td>\n",
       "      <td>8.0</td>\n",
       "      <td>244.0</td>\n",
       "      <td>1335.0</td>\n",
       "      <td>8442.0</td>\n",
       "      <td>1.294968e+10</td>\n",
       "      <td>87.000000</td>\n",
       "    </tr>\n",
       "    <tr>\n",
       "      <th>50%</th>\n",
       "      <td>5875.000000</td>\n",
       "      <td>8.0</td>\n",
       "      <td>244.0</td>\n",
       "      <td>1335.0</td>\n",
       "      <td>8442.0</td>\n",
       "      <td>1.636125e+10</td>\n",
       "      <td>163.000000</td>\n",
       "    </tr>\n",
       "    <tr>\n",
       "      <th>75%</th>\n",
       "      <td>6001.000000</td>\n",
       "      <td>8.0</td>\n",
       "      <td>244.0</td>\n",
       "      <td>1335.0</td>\n",
       "      <td>8442.0</td>\n",
       "      <td>2.040643e+10</td>\n",
       "      <td>209.000000</td>\n",
       "    </tr>\n",
       "    <tr>\n",
       "      <th>max</th>\n",
       "      <td>6009.000000</td>\n",
       "      <td>8.0</td>\n",
       "      <td>244.0</td>\n",
       "      <td>1335.0</td>\n",
       "      <td>8442.0</td>\n",
       "      <td>2.376529e+10</td>\n",
       "      <td>1362.000000</td>\n",
       "    </tr>\n",
       "  </tbody>\n",
       "</table>\n",
       "</div>"
      ],
      "text/plain": [
       "       Código SIAFI Município  Código Função  Código Subfunção  \\\n",
       "count             5772.000000         5772.0            5772.0   \n",
       "mean              5462.788981            8.0             244.0   \n",
       "std               1209.375625            0.0               0.0   \n",
       "min                770.000000            8.0             244.0   \n",
       "25%               5833.000000            8.0             244.0   \n",
       "50%               5875.000000            8.0             244.0   \n",
       "75%               6001.000000            8.0             244.0   \n",
       "max               6009.000000            8.0             244.0   \n",
       "\n",
       "       Código Programa  Código Ação  NIS Favorecido  Valor Parcela  \n",
       "count           5772.0       5772.0    5.772000e+03    5772.000000  \n",
       "mean            1335.0       8442.0    1.654944e+10     171.905405  \n",
       "std                0.0          0.0    3.701750e+09      98.021983  \n",
       "min             1335.0       8442.0    1.006371e+10      39.000000  \n",
       "25%             1335.0       8442.0    1.294968e+10      87.000000  \n",
       "50%             1335.0       8442.0    1.636125e+10     163.000000  \n",
       "75%             1335.0       8442.0    2.040643e+10     209.000000  \n",
       "max             1335.0       8442.0    2.376529e+10    1362.000000  "
      ]
     },
     "execution_count": 31,
     "metadata": {},
     "output_type": "execute_result"
    }
   ],
   "source": [
    "df[df['UF'] == 'RJ'].describe()"
   ]
  },
  {
   "cell_type": "code",
   "execution_count": 7,
   "metadata": {
    "collapsed": false
   },
   "outputs": [
    {
     "name": "stdout",
     "output_type": "stream",
     "text": [
      "Coluna:  UF\n",
      "Coluna:  Código SIAFI Município\n",
      "Coluna:  Nome Município\n",
      "Coluna:  Código Função\n",
      "Coluna:  Código Subfunção\n",
      "Coluna:  Código Programa\n",
      "Coluna:  Código Ação\n",
      "Coluna:  NIS Favorecido\n",
      "Coluna:  Nome Favorecido\n",
      "Coluna:  Fonte-Finalidade\n",
      "Coluna:  Valor Parcela\n",
      "Coluna:  Mês Competência\n"
     ]
    }
   ],
   "source": [
    "for col in df.columns:\n",
    "    print(\"Coluna: \", col)"
   ]
  },
  {
   "cell_type": "code",
   "execution_count": 8,
   "metadata": {
    "collapsed": true
   },
   "outputs": [],
   "source": [
    "df['Regiao'] = None"
   ]
  },
  {
   "cell_type": "code",
   "execution_count": 9,
   "metadata": {
    "collapsed": true
   },
   "outputs": [],
   "source": [
    "# add region name to dataframe \n",
    "def regiao(estado):\n",
    "    if estado in ['MA','PI','CE','RN','PE','PB','SE','AL','BA']:\n",
    "        return 'Nordeste'\n",
    "    elif estado in ['AM', 'RR', 'RO', 'AP', 'TO', 'RO', 'AC']:\n",
    "        return 'Norte'\n",
    "    elif estado in ['MT', 'MS', 'GO', 'DF']:\n",
    "        return 'Centro-Oeste'\n",
    "    elif estado in ['SP', 'RJ', 'ES', 'MG']:\n",
    "        return 'Sudeste'\n",
    "    else:\n",
    "        return 'Sul'"
   ]
  },
  {
   "cell_type": "code",
   "execution_count": 10,
   "metadata": {
    "collapsed": true
   },
   "outputs": [],
   "source": [
    "df['Regiao'] = df['UF'].apply(regiao)"
   ]
  },
  {
   "cell_type": "code",
   "execution_count": 11,
   "metadata": {
    "collapsed": false
   },
   "outputs": [
    {
     "data": {
      "text/plain": [
       "Index(['UF', 'Código SIAFI Município', 'Nome Município', 'Código Função',\n",
       "       'Código Subfunção', 'Código Programa', 'Código Ação', 'NIS Favorecido',\n",
       "       'Nome Favorecido', 'Fonte-Finalidade', 'Valor Parcela',\n",
       "       'Mês Competência', 'Regiao'],\n",
       "      dtype='object')"
      ]
     },
     "execution_count": 11,
     "metadata": {},
     "output_type": "execute_result"
    }
   ],
   "source": [
    "df.columns"
   ]
  },
  {
   "cell_type": "code",
   "execution_count": 14,
   "metadata": {
    "collapsed": true
   },
   "outputs": [],
   "source": [
    "# returning state's name to datafrane\n",
    "def estado(uf):\n",
    "    if uf == 'MA':\n",
    "        return 'Maranhão'\n",
    "    elif uf == 'PI':\n",
    "        return 'Piauí'\n",
    "    elif uf == 'CE':\n",
    "        return 'Ceará'\n",
    "    elif uf == 'BA':\n",
    "        return 'Bahia'\n",
    "    elif uf == 'AL':\n",
    "        return 'Alagoas'\n",
    "    elif uf == 'SE':\n",
    "        return 'Sergipe'\n",
    "    elif uf == 'RN':\n",
    "        return 'Rio Grande do Norte'\n",
    "    elif uf == 'PE':\n",
    "        return 'Pernambuco'\n",
    "    elif uf == 'PB':\n",
    "        return 'Paraíba'\n",
    "    elif uf == 'AM':\n",
    "        return 'Amazonas'\n",
    "    elif uf == 'RR':\n",
    "        return 'Roraima'\n",
    "    elif uf == 'AP':\n",
    "        return 'Amapá'\n",
    "    elif uf == 'PA':\n",
    "        return 'Pará'\n",
    "    elif uf == 'TO':\n",
    "        return 'Tocantins'\n",
    "    elif uf == 'RO':\n",
    "        return 'Rondonia'\n",
    "    elif uf == 'AC':\n",
    "        return 'Acre'\n",
    "    elif uf == 'MT':\n",
    "        return 'Mato Grosso'\n",
    "    elif uf == 'MS':\n",
    "        return 'Mato Grosso do Sul'\n",
    "    elif uf == 'GO':\n",
    "        return 'Goiás'\n",
    "    elif uf == 'SP':\n",
    "        return 'São Paulo'\n",
    "    elif uf == 'RJ':\n",
    "        return 'Rio de Janeiro'\n",
    "    elif uf == 'ES':\n",
    "        return 'Espirito Santo'\n",
    "    elif uf == 'MG':\n",
    "        return 'Minas Gerais'\n",
    "    elif uf == 'PR':\n",
    "        return 'Paraná'\n",
    "    elif uf == 'RS':\n",
    "        return 'Rio Grande do Sul'\n",
    "    elif uf == 'SC':\n",
    "        return 'Santa Catarina'\n",
    "    else:\n",
    "        return ''"
   ]
  },
  {
   "cell_type": "code",
   "execution_count": 15,
   "metadata": {
    "collapsed": true
   },
   "outputs": [],
   "source": [
    "#df['Estado'] = None\n",
    "df['Estado'] = df['UF'].apply(estado)"
   ]
  },
  {
   "cell_type": "code",
   "execution_count": 16,
   "metadata": {
    "collapsed": true
   },
   "outputs": [],
   "source": [
    "df['Fonte'] = df['Fonte-Finalidade'].apply(lambda x: x.split('-')[0])\n",
    "df['Finalidade'] = df['Fonte-Finalidade'].apply(lambda x: x.split('-')[1])\n",
    "df.drop('Fonte-Finalidade', axis=1, inplace = True)"
   ]
  },
  {
   "cell_type": "code",
   "execution_count": 18,
   "metadata": {
    "collapsed": false
   },
   "outputs": [
    {
     "data": {
      "text/html": [
       "<div>\n",
       "<style>\n",
       "    .dataframe thead tr:only-child th {\n",
       "        text-align: right;\n",
       "    }\n",
       "\n",
       "    .dataframe thead th {\n",
       "        text-align: left;\n",
       "    }\n",
       "\n",
       "    .dataframe tbody tr th {\n",
       "        vertical-align: top;\n",
       "    }\n",
       "</style>\n",
       "<table border=\"1\" class=\"dataframe\">\n",
       "  <thead>\n",
       "    <tr style=\"text-align: right;\">\n",
       "      <th></th>\n",
       "      <th>UF</th>\n",
       "      <th>Código SIAFI Município</th>\n",
       "      <th>Nome Município</th>\n",
       "      <th>Código Função</th>\n",
       "      <th>Código Subfunção</th>\n",
       "      <th>Código Programa</th>\n",
       "      <th>Código Ação</th>\n",
       "      <th>NIS Favorecido</th>\n",
       "      <th>Nome Favorecido</th>\n",
       "      <th>Valor Parcela</th>\n",
       "      <th>Mês Competência</th>\n",
       "      <th>Regiao</th>\n",
       "      <th>Estado</th>\n",
       "      <th>Fonte</th>\n",
       "      <th>Finalidade</th>\n",
       "    </tr>\n",
       "  </thead>\n",
       "  <tbody>\n",
       "    <tr>\n",
       "      <th>0</th>\n",
       "      <td>BA</td>\n",
       "      <td>3389</td>\n",
       "      <td>BROTAS DE MACAUBAS</td>\n",
       "      <td>8</td>\n",
       "      <td>244</td>\n",
       "      <td>1335</td>\n",
       "      <td>8442</td>\n",
       "      <td>16074176737</td>\n",
       "      <td>FLAVIANO SEBASTIAO DOS SANTOS</td>\n",
       "      <td>131.0</td>\n",
       "      <td>01/2017</td>\n",
       "      <td>Nordeste</td>\n",
       "      <td>Bahia</td>\n",
       "      <td>CAIXA</td>\n",
       "      <td>Programa Bolsa Família</td>\n",
       "    </tr>\n",
       "    <tr>\n",
       "      <th>1</th>\n",
       "      <td>PE</td>\n",
       "      <td>2531</td>\n",
       "      <td>RECIFE</td>\n",
       "      <td>8</td>\n",
       "      <td>244</td>\n",
       "      <td>1335</td>\n",
       "      <td>8442</td>\n",
       "      <td>20033347012</td>\n",
       "      <td>ELANE PATRICIA DA SILVA DAMASIO NUNES</td>\n",
       "      <td>170.0</td>\n",
       "      <td>01/2017</td>\n",
       "      <td>Nordeste</td>\n",
       "      <td>Pernambuco</td>\n",
       "      <td>CAIXA</td>\n",
       "      <td>Programa Bolsa Família</td>\n",
       "    </tr>\n",
       "    <tr>\n",
       "      <th>2</th>\n",
       "      <td>SP</td>\n",
       "      <td>6291</td>\n",
       "      <td>CAMPINAS</td>\n",
       "      <td>8</td>\n",
       "      <td>244</td>\n",
       "      <td>1335</td>\n",
       "      <td>8442</td>\n",
       "      <td>13287063897</td>\n",
       "      <td>ANGELA APARECIDA SERAFIM</td>\n",
       "      <td>202.0</td>\n",
       "      <td>01/2017</td>\n",
       "      <td>Sudeste</td>\n",
       "      <td>São Paulo</td>\n",
       "      <td>CAIXA</td>\n",
       "      <td>Programa Bolsa Família</td>\n",
       "    </tr>\n",
       "  </tbody>\n",
       "</table>\n",
       "</div>"
      ],
      "text/plain": [
       "   UF  Código SIAFI Município      Nome Município  Código Função  \\\n",
       "0  BA                    3389  BROTAS DE MACAUBAS              8   \n",
       "1  PE                    2531              RECIFE              8   \n",
       "2  SP                    6291            CAMPINAS              8   \n",
       "\n",
       "   Código Subfunção  Código Programa  Código Ação  NIS Favorecido  \\\n",
       "0               244             1335         8442     16074176737   \n",
       "1               244             1335         8442     20033347012   \n",
       "2               244             1335         8442     13287063897   \n",
       "\n",
       "                         Nome Favorecido  Valor Parcela Mês Competência  \\\n",
       "0          FLAVIANO SEBASTIAO DOS SANTOS          131.0         01/2017   \n",
       "1  ELANE PATRICIA DA SILVA DAMASIO NUNES          170.0         01/2017   \n",
       "2               ANGELA APARECIDA SERAFIM          202.0         01/2017   \n",
       "\n",
       "     Regiao      Estado   Fonte               Finalidade  \n",
       "0  Nordeste       Bahia  CAIXA    Programa Bolsa Família  \n",
       "1  Nordeste  Pernambuco  CAIXA    Programa Bolsa Família  \n",
       "2   Sudeste   São Paulo  CAIXA    Programa Bolsa Família  "
      ]
     },
     "execution_count": 18,
     "metadata": {},
     "output_type": "execute_result"
    }
   ],
   "source": [
    "df.head(3)"
   ]
  },
  {
   "cell_type": "code",
   "execution_count": 19,
   "metadata": {
    "collapsed": false
   },
   "outputs": [
    {
     "data": {
      "text/plain": [
       "array(['Nordeste', 'Sudeste', 'Centro-Oeste', 'Sul', 'Norte'],\n",
       "      dtype=object)"
      ]
     },
     "execution_count": 19,
     "metadata": {},
     "output_type": "execute_result"
    }
   ],
   "source": [
    "df['Estado'].unique()\n",
    "df['Regiao'].unique()"
   ]
  },
  {
   "cell_type": "code",
   "execution_count": 20,
   "metadata": {
    "collapsed": false
   },
   "outputs": [
    {
     "data": {
      "text/plain": [
       "2531"
      ]
     },
     "execution_count": 20,
     "metadata": {},
     "output_type": "execute_result"
    }
   ],
   "source": [
    "df[df['Nome Município'] == 'RECIFE']['Código SIAFI Município'].unique()[0]"
   ]
  },
  {
   "cell_type": "code",
   "execution_count": 22,
   "metadata": {
    "collapsed": false
   },
   "outputs": [
    {
     "data": {
      "text/plain": [
       "UF                        False\n",
       "Código SIAFI Município    False\n",
       "Nome Município            False\n",
       "Código Função             False\n",
       "Código Subfunção          False\n",
       "Código Programa           False\n",
       "Código Ação               False\n",
       "NIS Favorecido            False\n",
       "Nome Favorecido           False\n",
       "Valor Parcela             False\n",
       "Mês Competência           False\n",
       "Regiao                    False\n",
       "Estado                    False\n",
       "Fonte                     False\n",
       "Finalidade                False\n",
       "dtype: bool"
      ]
     },
     "execution_count": 22,
     "metadata": {},
     "output_type": "execute_result"
    }
   ],
   "source": [
    "df.isnull().any()"
   ]
  },
  {
   "cell_type": "code",
   "execution_count": 24,
   "metadata": {
    "collapsed": false
   },
   "outputs": [
    {
     "data": {
      "text/plain": [
       "Index(['UF', 'Código SIAFI Município', 'Nome Município', 'Código Função',\n",
       "       'Código Subfunção', 'Código Programa', 'Código Ação', 'NIS Favorecido',\n",
       "       'Nome Favorecido', 'Valor Parcela', 'Mês Competência', 'Regiao',\n",
       "       'Estado', 'Fonte', 'Finalidade'],\n",
       "      dtype='object')"
      ]
     },
     "execution_count": 24,
     "metadata": {},
     "output_type": "execute_result"
    }
   ],
   "source": [
    "df.columns"
   ]
  },
  {
   "cell_type": "code",
   "execution_count": 49,
   "metadata": {
    "collapsed": false
   },
   "outputs": [
    {
     "data": {
      "text/plain": [
       "array([244], dtype=int64)"
      ]
     },
     "execution_count": 49,
     "metadata": {},
     "output_type": "execute_result"
    }
   ],
   "source": [
    "#df['Código Função'].unique()\n",
    "#df['Código Ação'].unique()\n",
    "df['Código Subfunção'].unique()"
   ]
  },
  {
   "cell_type": "code",
   "execution_count": 44,
   "metadata": {
    "collapsed": false
   },
   "outputs": [
    {
     "name": "stdout",
     "output_type": "stream",
     "text": [
      "['01', '2017']\n",
      "['12', '2016']\n",
      "['11', '2016']\n"
     ]
    }
   ],
   "source": [
    "for data in df['Mês Competência'].unique():\n",
    "    print(data.split('/'))"
   ]
  },
  {
   "cell_type": "code",
   "execution_count": 56,
   "metadata": {
    "collapsed": false
   },
   "outputs": [
    {
     "name": "stdout",
     "output_type": "stream",
     "text": [
      "<class 'pandas.core.frame.DataFrame'>\n",
      "Int64Index: 1000 entries, 0 to 999\n",
      "Data columns (total 15 columns):\n",
      "UF                        1000 non-null object\n",
      "Código SIAFI Município    1000 non-null int64\n",
      "Nome Município            1000 non-null object\n",
      "Código Função             1000 non-null int64\n",
      "Código Subfunção          1000 non-null int64\n",
      "Código Programa           1000 non-null int64\n",
      "Código Ação               1000 non-null int64\n",
      "NIS Favorecido            1000 non-null int64\n",
      "Nome Favorecido           1000 non-null object\n",
      "Valor Parcela             1000 non-null float64\n",
      "Mês Competência           1000 non-null object\n",
      "Regiao                    1000 non-null object\n",
      "Estado                    1000 non-null object\n",
      "Fonte                     1000 non-null object\n",
      "Finalidade                1000 non-null object\n",
      "dtypes: float64(1), int64(6), object(8)\n",
      "memory usage: 125.0+ KB\n"
     ]
    }
   ],
   "source": [
    "dataset_aux = df[df['Código Função'] == 8]\n",
    "dataset_aux.info()             \n"
   ]
  },
  {
   "cell_type": "code",
   "execution_count": 67,
   "metadata": {
    "collapsed": false
   },
   "outputs": [
    {
     "data": {
      "text/plain": [
       "Index(['UF', 'Código SIAFI Município', 'Nome Município', 'Código Função',\n",
       "       'Código Subfunção', 'Código Programa', 'Código Ação', 'NIS Favorecido',\n",
       "       'Nome Favorecido', 'Valor Parcela', 'Mês Competência', 'Regiao',\n",
       "       'Estado', 'Fonte', 'Finalidade'],\n",
       "      dtype='object')"
      ]
     },
     "execution_count": 67,
     "metadata": {},
     "output_type": "execute_result"
    }
   ],
   "source": [
    "df.columns"
   ]
  },
  {
   "cell_type": "code",
   "execution_count": 79,
   "metadata": {
    "collapsed": false
   },
   "outputs": [
    {
     "name": "stdout",
     "output_type": "stream",
     "text": [
      "'UF'\n",
      "'Código SIAFI Município'\n",
      "'Nome Município'\n",
      "'Código Função'\n",
      "'Código Subfunção'\n",
      "'Código Programa'\n",
      "'Código Ação'\n",
      "'NIS Favorecido'\n",
      "'Nome Favorecido'\n",
      "'Valor Parcela'\n",
      "'Mês Competência'\n",
      "'Regiao'\n",
      "'Estado'\n",
      "'Fonte'\n",
      "'Finalidade'\n"
     ]
    }
   ],
   "source": [
    "for col in df.columns:\n",
    "    print(\"'{}'\".format(col))"
   ]
  },
  {
   "cell_type": "code",
   "execution_count": 87,
   "metadata": {
    "collapsed": true
   },
   "outputs": [],
   "source": [
    "dia, mes = df['Mês Competência'][10].split('/')"
   ]
  },
  {
   "cell_type": "code",
   "execution_count": 107,
   "metadata": {
    "collapsed": false
   },
   "outputs": [
    {
     "data": {
      "text/plain": [
       "array([3197, 1495], dtype=int64)"
      ]
     },
     "execution_count": 107,
     "metadata": {},
     "output_type": "execute_result"
    }
   ],
   "source": [
    "df[df['Nome Município'] == 'PACATUBA']['Código SIAFI Município'].unique()"
   ]
  },
  {
   "cell_type": "code",
   "execution_count": 140,
   "metadata": {
    "collapsed": false
   },
   "outputs": [
    {
     "name": "stdout",
     "output_type": "stream",
     "text": [
      "['UF']\n",
      "['Código', 'SIAFI', 'Município']\n",
      "['Nome', 'Município']\n",
      "['Código', 'Função']\n",
      "['Código', 'Subfunção']\n",
      "['Código', 'Programa']\n",
      "['Código', 'Ação']\n",
      "['NIS', 'Favorecido']\n",
      "['Nome', 'Favorecido']\n",
      "['Valor', 'Parcela']\n",
      "['Mês', 'Competência']\n",
      "['Regiao']\n",
      "['Estado']\n",
      "['Fonte']\n",
      "['Finalidade']\n",
      "['UF']\n",
      "['Código', 'SIAFI', 'Município']\n",
      "['Nome', 'Município']\n",
      "['Código', 'Função']\n",
      "['Código', 'Subfunção']\n",
      "['Código', 'Programa']\n",
      "['Código', 'Ação']\n",
      "['NIS', 'Favorecido']\n",
      "['Nome', 'Favorecido']\n",
      "['Valor', 'Parcela']\n",
      "['Mês', 'Competência']\n",
      "['Regiao']\n",
      "['Estado']\n",
      "['Fonte']\n",
      "['Finalidade']\n"
     ]
    }
   ],
   "source": [
    "for cod in df[df['Nome Município'] == 'PACATUBA']['Código SIAFI Município'].unique():\n",
    "    for city in df[df['Código SIAFI Município'] == cod]:\n",
    "        print(city.split())"
   ]
  },
  {
   "cell_type": "code",
   "execution_count": 154,
   "metadata": {
    "collapsed": false
   },
   "outputs": [
    {
     "name": "stdout",
     "output_type": "stream",
     "text": [
      "131.00\n"
     ]
    }
   ],
   "source": [
    "print(\"%.2f\" % df['Valor Parcela'][0])"
   ]
  },
  {
   "cell_type": "code",
   "execution_count": null,
   "metadata": {
    "collapsed": true
   },
   "outputs": [],
   "source": []
  }
 ],
 "metadata": {
  "kernelspec": {
   "display_name": "Python 3",
   "language": "python",
   "name": "python3"
  },
  "language_info": {
   "codemirror_mode": {
    "name": "ipython",
    "version": 3
   },
   "file_extension": ".py",
   "mimetype": "text/x-python",
   "name": "python",
   "nbconvert_exporter": "python",
   "pygments_lexer": "ipython3",
   "version": "3.6.0"
  }
 },
 "nbformat": 4,
 "nbformat_minor": 2
}
